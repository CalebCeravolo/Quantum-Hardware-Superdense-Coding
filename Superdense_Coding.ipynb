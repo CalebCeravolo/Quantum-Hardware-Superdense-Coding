{
 "cells": [
  {
   "cell_type": "markdown",
   "id": "0d795aaa-5f0c-4ba0-8fc9-59c7aa45d462",
   "metadata": {},
   "source": [
    "# Superdense coding"
   ]
  },
  {
   "cell_type": "code",
   "execution_count": null,
   "id": "ead678a2-9bb9-4cf1-b7f0-4dbfeb9910bd",
   "metadata": {},
   "outputs": [],
   "source": []
  }
 ],
 "metadata": {
  "kernelspec": {
   "display_name": "Python 3 (ipykernel)",
   "language": "python",
   "name": "python3"
  },
  "language_info": {
   "codemirror_mode": {
    "name": "ipython",
    "version": 3
   },
   "file_extension": ".py",
   "mimetype": "text/x-python",
   "name": "python",
   "nbconvert_exporter": "python",
   "pygments_lexer": "ipython3",
   "version": "3.11.9"
  }
 },
 "nbformat": 4,
 "nbformat_minor": 5
}
